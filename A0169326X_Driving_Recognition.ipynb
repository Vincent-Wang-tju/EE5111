{
 "cells": [
  {
   "cell_type": "code",
   "execution_count": 1,
   "metadata": {},
   "outputs": [],
   "source": [
    "from AWSIoTPythonSDK.MQTTLib import AWSIoTMQTTShadowClient\n",
    "import random, time"
   ]
  },
  {
   "cell_type": "code",
   "execution_count": 2,
   "metadata": {},
   "outputs": [],
   "source": [
    "# A random programmatic shadow client ID.\n",
    "SHADOW_CLIENT = \"A0169326X_EngineFD001_ShadowClient\"\n",
    "\n",
    "# The unique hostname that &IoT; generated for \n",
    "# this device.\n",
    "HOST_NAME = \"a1ck22vikbcyjq-ats.iot.us-west-2.amazonaws.com\"\n",
    "\n",
    "# The relative path to the correct root CA file for &IoT;, \n",
    "# which you have already saved onto this device.\n",
    "ROOT_CA = \"F:/19201/EE5111/AWS/CA/FD001/AmazonRootCA1.pem\"\n",
    "\n",
    "# The relative path to your private key file that \n",
    "# &IoT; generated for this device, which you \n",
    "# have already saved onto this device.\n",
    "PRIVATE_KEY = \"F:/19201/EE5111/AWS/CA/FD001/47b79a20ea-private.pem.key\"\n",
    "\n",
    "# The relative path to your certificate file that \n",
    "# &IoT; generated for this device, which you \n",
    "# have already saved onto this device.\n",
    "CERT_FILE = \"F:/19201/EE5111/AWS/CA/FD001/47b79a20ea-certificate.pem.crt.txt\"\n",
    "\n",
    "# A programmatic shadow handler name prefix.\n",
    "SHADOW_HANDLER = \"A0169326X_EngineFD001\"\n"
   ]
  },
  {
   "cell_type": "code",
   "execution_count": 3,
   "metadata": {},
   "outputs": [
    {
     "name": "stdout",
     "output_type": "stream",
     "text": [
      "Connecting to AWS IoT...\n"
     ]
    },
    {
     "data": {
      "text/plain": [
       "True"
      ]
     },
     "execution_count": 3,
     "metadata": {},
     "output_type": "execute_result"
    }
   ],
   "source": [
    "# Automatically called whenever the shadow is updated.\n",
    "def myShadowUpdateCallback(payload, responseStatus, token):\n",
    "    print()\n",
    "    print('UPDATE: $aws/things/' + SHADOW_HANDLER + '/shadow/update/#')\n",
    "    print(\"payload = \" + payload)\n",
    "    print(\"responseStatus = \" + responseStatus)\n",
    "    print(\"token = \" + token)\n",
    "\n",
    "# Create, configure, and connect a shadow client.\n",
    "print('Connecting to AWS IoT...')\n",
    "myShadowClient = AWSIoTMQTTShadowClient(SHADOW_CLIENT)\n",
    "myShadowClient.configureEndpoint(HOST_NAME, 8883)\n",
    "myShadowClient.configureCredentials(ROOT_CA, PRIVATE_KEY, CERT_FILE)\n",
    "myShadowClient.configureConnectDisconnectTimeout(10)\n",
    "myShadowClient.configureMQTTOperationTimeout(5)\n",
    "myShadowClient.connect()"
   ]
  },
  {
   "cell_type": "code",
   "execution_count": null,
   "metadata": {},
   "outputs": [],
   "source": []
  }
 ],
 "metadata": {
  "kernelspec": {
   "display_name": "Python 3",
   "language": "python",
   "name": "python3"
  },
  "language_info": {
   "codemirror_mode": {
    "name": "ipython",
    "version": 3
   },
   "file_extension": ".py",
   "mimetype": "text/x-python",
   "name": "python",
   "nbconvert_exporter": "python",
   "pygments_lexer": "ipython3",
   "version": "3.7.1"
  }
 },
 "nbformat": 4,
 "nbformat_minor": 2
}
