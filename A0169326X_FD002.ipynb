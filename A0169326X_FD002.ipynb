{
 "cells": [
  {
   "cell_type": "code",
   "execution_count": null,
   "metadata": {},
   "outputs": [],
   "source": [
    "from AWSIoTPythonSDK.MQTTLib import AWSIoTMQTTShadowClient\n",
    "import numpy as np\n",
    "import random, time\n",
    "import pandas as pd\n",
    "import json\n",
    "import time\n",
    "import datetime"
   ]
  },
  {
   "cell_type": "code",
   "execution_count": null,
   "metadata": {},
   "outputs": [],
   "source": [
    "# A random programmatic shadow client ID.\n",
    "SHADOW_CLIENT = \"A0169326X_EngineFD002_ShadowClient\"\n",
    "\n",
    "# The unique hostname that &IoT; generated for this device.\n",
    "HOST_NAME = \"a1ck22vikbcyjq-ats.iot.us-west-2.amazonaws.com\"\n",
    "\n",
    "# The relative path to the correct root CA file for &IoT;, which you have already saved onto this device.\n",
    "ROOT_CA = \"F:/19201/EE5111/AWS/CA/FD002/AmazonRootCA1.pem\"\n",
    "\n",
    "# The relative path to your private key file that &IoT; generated for this device, which you have already saved onto this device.\n",
    "PRIVATE_KEY = \"F:/19201/EE5111/AWS/CA/FD002/3482ee8cce-private.pem.key\"\n",
    "\n",
    "# The relative path to your certificate file that &IoT; generated for this device, which you have already saved onto this device.\n",
    "CERT_FILE = \"F:/19201/EE5111/AWS/CA/FD002/3482ee8cce-certificate.pem.crt.txt\"\n",
    "\n",
    "# A programmatic shadow handler name prefix.\n",
    "SHADOW_HANDLER = \"A0169326X_EngineFD002\"\n"
   ]
  },
  {
   "cell_type": "code",
   "execution_count": null,
   "metadata": {},
   "outputs": [],
   "source": [
    "# Automatically called whenever the shadow is updated.\n",
    "def myShadowUpdateCallback(payload, responseStatus, token):\n",
    "    print()\n",
    "    print('UPDATE: $aws/things/' + SHADOW_HANDLER + '/shadow/update/#')\n",
    "    print(\"payload = \" + payload)\n",
    "    print(\"responseStatus = \" + responseStatus)\n",
    "    print(\"token = \" + token)\n",
    "\n",
    "# Create, configure, and connect a shadow client.\n",
    "print('Connecting to AWS IoT...')\n",
    "myShadowClient = AWSIoTMQTTShadowClient(SHADOW_CLIENT)\n",
    "myShadowClient.configureEndpoint(HOST_NAME, 8883)\n",
    "myShadowClient.configureCredentials(ROOT_CA, PRIVATE_KEY, CERT_FILE)\n",
    "myShadowClient.configureConnectDisconnectTimeout(10)\n",
    "myShadowClient.configureMQTTOperationTimeout(5)\n",
    "myShadowClient.connect()"
   ]
  },
  {
   "cell_type": "code",
   "execution_count": null,
   "metadata": {},
   "outputs": [],
   "source": [
    "# Create a programmatic representation of the shadow.\n",
    "myDeviceShadow = myShadowClient.createShadowHandlerWithName(SHADOW_HANDLER, True)\n",
    "\n",
    "# Keep sending data from FD002.txt until this script stops running.\n",
    "# To stop running this script, press Ctrl+C.\n",
    "df_engine2 = pd.read_csv('F:/19201/EE5111/AWS/CA/train_FD002.txt', delim_whitespace=True, header=None)\n",
    "size_df = df_engine2.size\n",
    "num_rows = size_df//26\n",
    "sensor_name = ['s'+ str(i) for i in range(1,len(df_engine2.columns)-4)]\n",
    "df_engine2.columns = ['id', 'circle', 'os1', 'os2', 'os3'] + sensor_name\n",
    "df_engine2['id'] = df_engine1['id'].apply(lambda idnum: 'FD002_' + str(idnum))\n",
    "df_engine2['Matriculation NO.'] = 'A0169326X'\n",
    "df_engine2['timestamp'] = str(np.nan)\n",
    "\n",
    "for i in range(1,num_rows):\n",
    "    now_stamp = time.time()\n",
    "    local_time = datetime.datetime.fromtimestamp(now_stamp)\n",
    "    utc_time = datetime.datetime.utcfromtimestamp(now_stamp)\n",
    "    df_engine2.at[i,'timestamp'] = str('UTC'+' '+str(utc_time))\n",
    "    json_format = df_engine1.iloc[i].to_json()\n",
    "    display_form_json = '{\"state\":{\"reported\":'+json_format+'}}'\n",
    "    \n",
    "    try:\n",
    "        myDeviceShadow.shadowUpdate(display_form_json,myShadowUpdateCallback, 5)\n",
    "    except:\n",
    "        print('The' + str(i) + '-th row data cannot be displayed!')\n",
    "        continue\n",
    "    time.sleep(1)"
   ]
  }
 ],
 "metadata": {
  "kernelspec": {
   "display_name": "Python 3",
   "language": "python",
   "name": "python3"
  },
  "language_info": {
   "codemirror_mode": {
    "name": "ipython",
    "version": 3
   },
   "file_extension": ".py",
   "mimetype": "text/x-python",
   "name": "python",
   "nbconvert_exporter": "python",
   "pygments_lexer": "ipython3",
   "version": "3.7.1"
  }
 },
 "nbformat": 4,
 "nbformat_minor": 2
}
